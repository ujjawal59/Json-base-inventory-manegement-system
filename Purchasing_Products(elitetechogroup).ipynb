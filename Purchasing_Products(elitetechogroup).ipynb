{
  "nbformat": 4,
  "nbformat_minor": 0,
  "metadata": {
    "colab": {
      "name": "Purchasing_Products(elitetechogroup).ipynb",
      "provenance": [],
      "collapsed_sections": []
    },
    "kernelspec": {
      "name": "python3",
      "display_name": "Python 3"
    },
    "language_info": {
      "name": "python"
    }
  },
  "cells": [
    {
      "cell_type": "markdown",
      "metadata": {
        "id": "9jnuJsAOtBXA"
      },
      "source": [
        "## ***Read Inventory***"
      ]
    },
    {
      "cell_type": "code",
      "metadata": {
        "id": "sB34dGSbb2L0"
      },
      "source": [
        "import json\n",
        "import time\n"
      ],
      "execution_count": 1,
      "outputs": []
    },
    {
      "cell_type": "code",
      "metadata": {
        "colab": {
          "base_uri": "https://localhost:8080/"
        },
        "id": "ZejRWd1d26jM",
        "outputId": "59c8719a-3cc5-4689-ed67-59b46124b96e"
      },
      "source": [
        "fd = open(\"record.json\",'r')\n",
        "txt = fd.read()\n",
        "fd.close() \n",
        "record = json.loads(txt)\n",
        "print(\"code_id    Name                Qty.   Price    Discount\")\n",
        "for i in record : \n",
        "   print(i , \"     \",record[i]['name'],\"    \",record[i]['qn'],\"   \",record[i]['pr'],\"      \",record[i]['dis_count'])"
      ],
      "execution_count": 10,
      "outputs": [
        {
          "output_type": "stream",
          "name": "stdout",
          "text": [
            "code_id    Name                Qty.   Price    Discount\n",
            "1001       Choco Cake          34     100        10\n",
            "1002       Milk Cake           100     800        15\n",
            "1003       Drink               70     85        5\n",
            "1004       Candy               1000     5        8\n",
            "1005       Pen                 100     20        34\n",
            "1006       Phone               10     50000        13\n",
            "1007       Mic                 0     1500        10\n",
            "1008       Case                5     599        15\n",
            "1009       Keyboard            10     1999        14\n",
            "1010       Sugar               200     40        12\n",
            "1011       Dal Sev             50     199        11\n",
            "1012       Notebook            44     40        12\n",
            "1013       Masur Dal           50     66        10\n",
            "1014       Gud                 45     46        4\n",
            "1015       Kaju                12     450        8\n",
            "1016       Badam               15     225        6\n",
            "1017       MeggiNodle          110     10        3\n",
            "1018       Arhar Dal           100     78        11\n",
            "1019       PeanutButter        20     275        10\n",
            "1020       LittleHeartBis      30     20        2\n",
            "1021       Oyes                40     10        1\n",
            "1022       Kitkat choc.        60     20        20\n",
            "1023       Earphone            5     1290        10\n",
            "1024       Mouse               9     675        12\n",
            "1025       C-type cable        15     299        3\n",
            "1026       USB cable           10     199        5\n",
            "1027       Cricket Bat         15     2555        8\n",
            "1028       Tennis ball         50     50        10\n",
            "1029       Cell                45     10        15\n",
            "1030       3pin charger        9     99        2\n",
            "1031       Monitor             4     8999        9\n"
          ]
        }
      ]
    },
    {
      "cell_type": "markdown",
      "metadata": {
        "id": "HnDbZmiT7TYT"
      },
      "source": [
        "## ***Enter Prod_id and Quantity from above list***"
      ]
    },
    {
      "cell_type": "code",
      "metadata": {
        "colab": {
          "base_uri": "https://localhost:8080/"
        },
        "id": "Lr2bKGNmtKOP",
        "outputId": "820ecc34-099e-4ac7-dbe3-a04055eca11c"
      },
      "source": [
        "print(\"--------------------------------------Welcome to Shivam Store---------------------------------------------------\")\n",
        "un_name = str(input(\"Enter your name: \"))\n",
        "Un_phno = int(input(\"Enter your phone number: \"))\n",
        "ui_prod  = str(input(\"Enter the product_Id: \"))\n",
        "ui_quant = int(input(\"Enter the quantity: \"))\n",
        "a=0\n",
        "a = record[ui_prod]['pr']\n",
        "if ui_quant > record[ui_prod]['qn']:\n",
        "  while ui_quant > record[ui_prod]['qn']:\n",
        "    print(\"Number of quantity avaiable are:\",record[ui_prod]['qn'])\n",
        "    print(\"Press 1 for Eithier purchase:\",record[ui_prod]['qn'],' quantity of less than that or press 2 to exit')\n",
        "    i = int(input())\n",
        "    if i == 1:\n",
        "      ui_quant = int(input(\"Enter the quantity: \"))\n",
        "      print(\"Product: \", record[ui_prod]['name'])\n",
        "      print(\"Price: \", record[ui_prod]['pr'])\n",
        "      a = a - (a*(record[ui_prod]['dis_count']/100))\n",
        "      print(\"Price after discount: \", a )\n",
        "      a = a * ui_quant\n",
        "      print(\"Billing Amount: \", a)\n",
        "      record[ui_prod]['qn'] = record[ui_prod]['qn'] - ui_quant  \n",
        "    else:\n",
        "      print(\"---------------------Thank you for visting-------------------------\")\n",
        "      break\n",
        "else:\n",
        "  print(\"Product: \", record[ui_prod]['name'])\n",
        "  print(\"Price: \", record[ui_prod]['pr'])\n",
        "  a = a - (a*(record[ui_prod]['dis_count']/100))\n",
        "  print(\"Price after discount: \", a )\n",
        "  a = a * ui_quant\n",
        "  print(\"Billing Amount: \", a )\n",
        "  record[ui_prod]['qn'] = record[ui_prod]['qn'] - ui_quant \n",
        "  print(\"---------------------Thank you for visting-------------------------\")"
      ],
      "execution_count": 11,
      "outputs": [
        {
          "output_type": "stream",
          "name": "stdout",
          "text": [
            "--------------------------------------Welcome to Shivam Store---------------------------------------------------\n",
            "Enter your name: vinay\n",
            "Enter your phone number: 9818251234\n",
            "Enter the product_Id: 1031\n",
            "Enter the quantity: 1\n",
            "Product:  Monitor       \n",
            "Price:  8999\n",
            "Price after discount:  8189.09\n",
            "Billing Amount:  8189.09\n",
            "---------------------Thank you for visting-------------------------\n"
          ]
        }
      ]
    },
    {
      "cell_type": "markdown",
      "metadata": {
        "id": "3DHEE65BtOGZ"
      },
      "source": [
        "## ***Update Inventory after purchase***"
      ]
    },
    {
      "cell_type": "code",
      "metadata": {
        "id": "U4yk--NitSvj"
      },
      "source": [
        "js = json.dumps(record)\n",
        "fd = open(\"record.json\",'w')\n",
        "fd.write(js)\n",
        "fd.close()"
      ],
      "execution_count": 12,
      "outputs": []
    },
    {
      "cell_type": "markdown",
      "metadata": {
        "id": "6rdAOctetU5r"
      },
      "source": [
        "## ***Sales JSON***"
      ]
    },
    {
      "cell_type": "code",
      "metadata": {
        "id": "_nTAqcEeLawm"
      },
      "source": [
        "fd = open(\"sales.json\",'r')\n",
        "s = fd.read()\n",
        "fd.close()\n",
        "\n",
        "sales = json.loads(s)"
      ],
      "execution_count": 17,
      "outputs": []
    },
    {
      "cell_type": "code",
      "metadata": {
        "colab": {
          "base_uri": "https://localhost:8080/"
        },
        "id": "mmfo3--tk8hq",
        "outputId": "9e881ead-44f8-441e-91b6-450c41f2c549"
      },
      "source": [
        "len(sales)"
      ],
      "execution_count": 18,
      "outputs": [
        {
          "output_type": "execute_result",
          "data": {
            "text/plain": [
              "2"
            ]
          },
          "metadata": {},
          "execution_count": 18
        }
      ]
    },
    {
      "cell_type": "code",
      "metadata": {
        "id": "s3X7xvu8tWCu"
      },
      "source": [
        "sales[len(sales)+1] = {'Time': time.ctime(),'User_name': un_name , 'Phoneno': Un_phno , 'prod' : ui_prod, 'qn' : ui_quant, 'amount': a}"
      ],
      "execution_count": 15,
      "outputs": []
    },
    {
      "cell_type": "code",
      "metadata": {
        "id": "ht9t9nBmtg_V"
      },
      "source": [
        "sale = json.dumps(sales)\n",
        "fd = open(\"sales.json\",'w')\n",
        "fd.write(sale)\n",
        "fd.close()"
      ],
      "execution_count": 16,
      "outputs": []
    },
    {
      "cell_type": "markdown",
      "metadata": {
        "id": "UhUzOAB7m7uh"
      },
      "source": [
        "## ***To view sales record***"
      ]
    },
    {
      "cell_type": "code",
      "metadata": {
        "colab": {
          "base_uri": "https://localhost:8080/"
        },
        "id": "ZKCfmMinm7J7",
        "outputId": "996fbd6e-91b9-4cdc-8440-11a4656de0b1"
      },
      "source": [
        "fd = open(\"sales.json\",'r')\n",
        "s = fd.read()\n",
        "fd.close()\n",
        "\n",
        "sales = json.loads(s) \n",
        "sales"
      ],
      "execution_count": 19,
      "outputs": [
        {
          "output_type": "execute_result",
          "data": {
            "text/plain": [
              "{'1': {'Phoneno': 8800861234,\n",
              "  'Time': 'Mon Sep  6 05:34:04 2021',\n",
              "  'User_name': 'ujjawal',\n",
              "  'amount': 97.02,\n",
              "  'prod': '1030',\n",
              "  'qn': 1},\n",
              " '2': {'Phoneno': 9818251234,\n",
              "  'Time': 'Mon Sep  6 05:35:28 2021',\n",
              "  'User_name': 'vinay',\n",
              "  'amount': 8189.09,\n",
              "  'prod': '1031',\n",
              "  'qn': 1}}"
            ]
          },
          "metadata": {},
          "execution_count": 19
        }
      ]
    }
  ]
}