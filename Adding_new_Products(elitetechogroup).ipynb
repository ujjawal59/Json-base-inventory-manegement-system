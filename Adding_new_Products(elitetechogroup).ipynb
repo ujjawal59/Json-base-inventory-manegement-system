{
  "nbformat": 4,
  "nbformat_minor": 0,
  "metadata": {
    "colab": {
      "name": "Adding_new_Products(elitetechogroup).ipynb",
      "provenance": [],
      "collapsed_sections": []
    },
    "kernelspec": {
      "name": "python3",
      "display_name": "Python 3"
    },
    "language_info": {
      "name": "python"
    }
  },
  "cells": [
    {
      "cell_type": "markdown",
      "metadata": {
        "id": "Hxe9riA8rPYf"
      },
      "source": [
        "## ***Read Data From JSON***"
      ]
    },
    {
      "cell_type": "code",
      "metadata": {
        "id": "USUxEc2jy2E1"
      },
      "source": [
        "import json\n",
        "import time"
      ],
      "execution_count": 1,
      "outputs": []
    },
    {
      "cell_type": "code",
      "metadata": {
        "id": "7mEYUW7krXTG"
      },
      "source": [
        "fd = open(\"record.json\",'r')\n",
        "r = fd.read()\n",
        "fd.close()\n",
        "record = json.loads(r)\n"
      ],
      "execution_count": 29,
      "outputs": []
    },
    {
      "cell_type": "code",
      "metadata": {
        "id": "DaUvM0-JrcpR",
        "colab": {
          "base_uri": "https://localhost:8080/"
        },
        "outputId": "f3b72603-d14f-4585-a9f9-d19d8b0aa067"
      },
      "source": [
        "record"
      ],
      "execution_count": 30,
      "outputs": [
        {
          "output_type": "execute_result",
          "data": {
            "text/plain": [
              "{'1001': {'dis_count': 10, 'name': 'Choco Cake', 'pr': 100, 'qn': 34},\n",
              " '1002': {'dis_count': 15, 'name': 'Milk Cake', 'pr': 800, 'qn': 100},\n",
              " '1003': {'dis_count': 5, 'name': 'Drink', 'pr': 85, 'qn': 70},\n",
              " '1004': {'dis_count': 8, 'name': 'Candy', 'pr': 5, 'qn': 1000},\n",
              " '1005': {'dis_count': 34, 'name': 'Pen', 'pr': 20, 'qn': 100},\n",
              " '1006': {'dis_count': 13, 'name': 'Phone', 'pr': 50000, 'qn': 10},\n",
              " '1007': {'dis_count': 10, 'name': 'Mic', 'pr': 1500, 'qn': 0},\n",
              " '1008': {'dis_count': 15, 'name': 'Case', 'pr': 599, 'qn': 5},\n",
              " '1009': {'dis_count': 14, 'name': 'Keyboard', 'pr': 1999, 'qn': 10},\n",
              " '1010': {'dis_count': 12, 'name': 'Sugar', 'pr': 40, 'qn': 200},\n",
              " '1011': {'dis_count': 11, 'name': 'Dal Sev', 'pr': 199, 'qn': 50},\n",
              " '1012': {'dis_count': 12, 'name': 'Notebook', 'pr': 40, 'qn': 44},\n",
              " '1013': {'dis_count': 10, 'name': 'Masur Dal', 'pr': 66, 'qn': 50},\n",
              " '1014': {'dis_count': 4, 'name': 'Gud', 'pr': 46, 'qn': 45},\n",
              " '1015': {'dis_count': 8, 'name': 'Kaju', 'pr': 450, 'qn': 12},\n",
              " '1016': {'dis_count': 6, 'name': 'Badam', 'pr': 225, 'qn': 15},\n",
              " '1017': {'dis_count': 3, 'name': 'Meggi Nodle', 'pr': 10, 'qn': 110},\n",
              " '1018': {'dis_count': 11, 'name': 'Arhar Dal', 'pr': 78, 'qn': 100},\n",
              " '1019': {'dis_count': 10, 'name': 'Peanut Butter', 'pr': 275, 'qn': 20},\n",
              " '1020': {'dis_count': 2, 'name': 'Little HeartBis.', 'pr': 20, 'qn': 30},\n",
              " '1021': {'dis_count': 1, 'name': 'Oyes', 'pr': 10, 'qn': 40},\n",
              " '1022': {'dis_count': 20, 'name': 'Kitkat choc.', 'pr': 20, 'qn': 60},\n",
              " '1023': {'dis_count': 10, 'name': 'Earphone', 'pr': 1290, 'qn': 5},\n",
              " '1024': {'dis_count': 12, 'name': 'Mouse', 'pr': 675, 'qn': 9},\n",
              " '1025': {'dis_count': 3, 'name': 'C-type cable', 'pr': 299, 'qn': 15},\n",
              " '1026': {'dis_count': 5, 'name': 'USB cable', 'pr': 199, 'qn': 10},\n",
              " '1027': {'dis_count': 8, 'name': 'Cricket Bat', 'pr': 2555, 'qn': 15},\n",
              " '1028': {'dis_count': 10, 'name': 'Tennis ball', 'pr': 50, 'qn': 50},\n",
              " '1029': {'dis_count': 15, 'name': 'Cell', 'pr': 10, 'qn': 45},\n",
              " '1030': {'dis_count': 2, 'name': '3pin charger', 'pr': 99, 'qn': 10},\n",
              " '1031': {'dis_count': 9, 'name': 'Monitor', 'pr': 8999, 'qn': 6}}"
            ]
          },
          "metadata": {},
          "execution_count": 30
        }
      ]
    },
    {
      "cell_type": "markdown",
      "metadata": {
        "id": "6LjgdP5ZrfDQ"
      },
      "source": [
        "## ***Add New Item INto Inventory Or Want to Update old record***"
      ]
    },
    {
      "cell_type": "code",
      "metadata": {
        "id": "yVir07Zmri8U",
        "colab": {
          "base_uri": "https://localhost:8080/"
        },
        "outputId": "4b1513e7-9e67-4397-c91e-0fe7c6720d68"
      },
      "source": [
        "prod_id = str(input(\"Enter product id:\"))\n",
        "name = str(input(\"Enter name:\"))\n",
        "pr = int(input(\"Enter price:\"))\n",
        "qn = int(input(\"Enter quantity:\"))\n",
        "dis_count = int(input(\"Enter discount:\"))\n",
        "\n",
        "for i in record:\n",
        "  if i == prod_id:\n",
        "    qn = qn + record[i]['qn'] \n",
        "    name = record[i]['name']\n",
        "    pr = record[i]['pr']\n",
        "\n",
        "record[prod_id] = {'name': name, 'pr': pr, 'qn': qn, 'dis_count': dis_count}\n",
        "\n",
        "js = json.dumps(record)\n",
        "\n",
        "fd = open(\"record.json\",'w')\n",
        "fd.write(js)\n",
        "fd.close()"
      ],
      "execution_count": 26,
      "outputs": [
        {
          "name": "stdout",
          "output_type": "stream",
          "text": [
            "Enter product id:1031\n",
            "Enter name:Monitor\n",
            "Enter price:8999\n",
            "Enter quantity:6\n",
            "Enter discount:9\n"
          ]
        }
      ]
    },
    {
      "cell_type": "code",
      "metadata": {
        "id": "lCIFfLYGrmpS",
        "colab": {
          "base_uri": "https://localhost:8080/"
        },
        "outputId": "45d91cfb-138d-419b-c409-c3ba19b5a03c"
      },
      "source": [
        "record"
      ],
      "execution_count": 27,
      "outputs": [
        {
          "output_type": "execute_result",
          "data": {
            "text/plain": [
              "{'1001': {'dis_count': 10, 'name': 'Choco Cake', 'pr': 100, 'qn': 34},\n",
              " '1002': {'dis_count': 15, 'name': 'Milk Cake', 'pr': 800, 'qn': 100},\n",
              " '1003': {'dis_count': 5, 'name': 'Drink', 'pr': 85, 'qn': 70},\n",
              " '1004': {'dis_count': 8, 'name': 'Candy', 'pr': 5, 'qn': 1000},\n",
              " '1005': {'dis_count': 34, 'name': 'Pen', 'pr': 20, 'qn': 100},\n",
              " '1006': {'dis_count': 13, 'name': 'Phone', 'pr': 50000, 'qn': 10},\n",
              " '1007': {'dis_count': 10, 'name': 'Mic', 'pr': 1500, 'qn': 0},\n",
              " '1008': {'dis_count': 15, 'name': 'Case', 'pr': 599, 'qn': 5},\n",
              " '1009': {'dis_count': 14, 'name': 'Keyboard', 'pr': 1999, 'qn': 10},\n",
              " '1010': {'dis_count': 12, 'name': 'Sugar', 'pr': 40, 'qn': 200},\n",
              " '1011': {'dis_count': 11, 'name': 'Dal Sev', 'pr': 199, 'qn': 50},\n",
              " '1012': {'dis_count': 12, 'name': 'Notebook', 'pr': 40, 'qn': 44},\n",
              " '1013': {'dis_count': 10, 'name': 'Masur Dal', 'pr': 66, 'qn': 50},\n",
              " '1014': {'dis_count': 4, 'name': 'Gud', 'pr': 46, 'qn': 45},\n",
              " '1015': {'dis_count': 8, 'name': 'Kaju', 'pr': 450, 'qn': 12},\n",
              " '1016': {'dis_count': 6, 'name': 'Badam', 'pr': 225, 'qn': 15},\n",
              " '1017': {'dis_count': 3, 'name': 'Meggi Nodle', 'pr': 10, 'qn': 110},\n",
              " '1018': {'dis_count': 11, 'name': 'Arhar Dal', 'pr': 78, 'qn': 100},\n",
              " '1019': {'dis_count': 10, 'name': 'Peanut Butter', 'pr': 275, 'qn': 20},\n",
              " '1020': {'dis_count': 2, 'name': 'Little HeartBis.', 'pr': 20, 'qn': 30},\n",
              " '1021': {'dis_count': 1, 'name': 'Oyes', 'pr': 10, 'qn': 40},\n",
              " '1022': {'dis_count': 20, 'name': 'Kitkat choc.', 'pr': 20, 'qn': 60},\n",
              " '1023': {'dis_count': 10, 'name': 'Earphone', 'pr': 1290, 'qn': 5},\n",
              " '1024': {'dis_count': 12, 'name': 'Mouse', 'pr': 675, 'qn': 9},\n",
              " '1025': {'dis_count': 3, 'name': 'C-type cable', 'pr': 299, 'qn': 15},\n",
              " '1026': {'dis_count': 5, 'name': 'USB cable', 'pr': 199, 'qn': 10},\n",
              " '1027': {'dis_count': 8, 'name': 'Cricket Bat', 'pr': 2555, 'qn': 15},\n",
              " '1028': {'dis_count': 10, 'name': 'Tennis ball', 'pr': 50, 'qn': 50},\n",
              " '1029': {'dis_count': 15, 'name': 'Cell', 'pr': 10, 'qn': 45},\n",
              " '1030': {'dis_count': 2, 'name': '3pin charger', 'pr': 99, 'qn': 10},\n",
              " '1031': {'dis_count': 9, 'name': 'Monitor', 'pr': 8999, 'qn': 6}}"
            ]
          },
          "metadata": {},
          "execution_count": 27
        }
      ]
    },
    {
      "cell_type": "markdown",
      "metadata": {
        "id": "cRFFpd-PppGe"
      },
      "source": [
        "## ***Want to del any record***"
      ]
    },
    {
      "cell_type": "code",
      "metadata": {
        "id": "ZeS_ArFjroYQ"
      },
      "source": [
        "del record['1001']"
      ],
      "execution_count": null,
      "outputs": []
    },
    {
      "cell_type": "code",
      "metadata": {
        "id": "uSyK79XCrsvl"
      },
      "source": [
        "record"
      ],
      "execution_count": null,
      "outputs": []
    }
  ]
}